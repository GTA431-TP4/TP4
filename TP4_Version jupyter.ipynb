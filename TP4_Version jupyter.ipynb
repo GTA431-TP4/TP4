{
 "cells": [
  {
   "cell_type": "code",
   "execution_count": 12,
   "metadata": {},
   "outputs": [],
   "source": [
    "import matplotlib.pyplot as plt\n",
    "\n",
    "import pandas as pd\n",
    "stats_crimesx = pd.read_csv(\"interventionscitoyendo.csv\")\n",
    "liste_pdq = pd.read_csv(\"pdq_point.csv\")\n",
    "liste_arr = pd.read_csv(\"arrondissement_clean.csv\")\n",
    "stats_crimesx['ANNEE']=pd.DatetimeIndex(stats_crimesx['DATE']).year\n",
    "stats_crimes = stats_crimesx[(stats_crimesx.ANNEE !=2020)]\n",
    "\n",
    "##Merge de la table intervention et de la table arrondissement\n",
    "table_merge = pd.merge(stats_crimes,liste_arr,on=[\"PDQ\"])\n",
    "\n",
    "\n",
    "\n"
   ]
  },
  {
   "cell_type": "markdown",
   "metadata": {},
   "source": [
    "### Statistique no.1 -- Crimes commis -- ###\n",
    "##Sommation (count() du nombre de crime par années (groupby)"
   ]
  },
  {
   "cell_type": "code",
   "execution_count": 24,
   "metadata": {},
   "outputs": [
    {
     "name": "stdout",
     "output_type": "stream",
     "text": [
      "Crime commis\n",
      "ANNEE\n",
      "2015    35609\n",
      "2016    33760\n",
      "2017    32664\n",
      "2018    28387\n",
      "2019    27155\n",
      "Name: DATE, dtype: int64\n",
      "Graphique des crimes commis par année entre 2015 et 2019\n"
     ]
    },
    {
     "data": {
      "image/png": "[encoded data removed]",
      "text/plain": [
       "<Figure size 432x288 with 1 Axes>"
      ]
     },
     "metadata": {
      "needs_background": "light"
     },
     "output_type": "display_data"
    }
   ],
   "source": [
    "crime_commis = stats_crimes.groupby([\"ANNEE\"]).count()[\"DATE\"]\n",
    "print(\"Crime commis\")\n",
    "print(crime_commis)\n",
    "##Création d'un graphique a barre\n",
    "print(\"Graphique des crimes commis par année entre 2015 et 2019\")\n",
    "crime_commis.plot(kind = \"bar\")\n",
    "plt.show()"
   ]
  },
  {
   "cell_type": "markdown",
   "metadata": {},
   "source": [
    "\n",
    "### Statistique no.2 -- Progression des crimes violents commis à chaque année -- ###"
   ]
  },
  {
   "cell_type": "code",
   "execution_count": 23,
   "metadata": {},
   "outputs": [
    {
     "name": "stdout",
     "output_type": "stream",
     "text": [
      "Crime Violent\n",
      "ANNEE\n",
      "2015    9823\n",
      "2016    9820\n",
      "2017    9223\n",
      "2018    7460\n",
      "2019    7011\n",
      "Name: DATE, dtype: int64\n",
      "Graphique de la progression des crimes violents commis à chaque année\n"
     ]
    },
    {
     "data": {
      "image/png": "[encoded data removed]",
      "text/plain": [
       "<Figure size 432x288 with 1 Axes>"
      ]
     },
     "metadata": {
      "needs_background": "light"
     },
     "output_type": "display_data"
    }
   ],
   "source": [
    "# data_stats2 = stats_crimes[(stats_crimes.CATEGORIE == \"Introduction\") |(stats_crimes.CATEGORIE == \"Infractions entrainant la mort\")]\n",
    "crime_violent = data_stats2.groupby([\"ANNEE\"]).count()[\"DATE\"]\n",
    "print(\"Crime Violent\")\n",
    "print(crime_violent)\n",
    "##Création d'un graphique a barre\n",
    "print(\"Graphique de la progression des crimes violents commis à chaque année\")\n",
    "crime_violent.plot(kind = \"bar\")\n",
    "plt.show()\n"
   ]
  },
  {
   "cell_type": "markdown",
   "metadata": {},
   "source": [
    "### Statistique no.3 -- Moyenne de crime pour un arrondissement par année -- ###\n"
   ]
  },
  {
   "cell_type": "code",
   "execution_count": 18,
   "metadata": {},
   "outputs": [
    {
     "name": "stdout",
     "output_type": "stream",
     "text": [
      "Nombre de crime moyen pour un arrondissement typique par année\n",
      "ANNEE\n",
      "2015    1047.323529\n",
      "2016     992.941176\n",
      "2017     960.705882\n",
      "2018     834.911765\n",
      "2019     798.676471\n",
      "Name: DATE, dtype: float64\n"
     ]
    }
   ],
   "source": [
    "##Calculer le nombre de département de police\n",
    "nombre_arrond = stats_crimes[\"PDQ\"].nunique()\n",
    "##Le nombre de crime commis divisé par le nombre d'arrondissement\n",
    "crime_moyen_arrondissement = crime_commis/nombre_arrond\n",
    "\n",
    "print(\"Nombre de crime moyen pour un arrondissement typique par année\")\n",
    "print(crime_moyen_arrondissement)\n"
   ]
  },
  {
   "cell_type": "markdown",
   "metadata": {},
   "source": [
    "\n",
    "### Statistique no.4 -- Moyenne de crime pour un arrondissement pour les 5 dernières années -- ###\n"
   ]
  },
  {
   "cell_type": "code",
   "execution_count": 19,
   "metadata": {},
   "outputs": [
    {
     "name": "stdout",
     "output_type": "stream",
     "text": [
      "La moyenne annuelle de crime entre 2015 et 2019 pour un arrondissement typique est : 927.0\n"
     ]
    }
   ],
   "source": [
    "##Faire une moyenne 5 ans de la statistique no3.\n",
    "print(\"La moyenne annuelle de crime entre 2015 et 2019 pour un arrondissement typique est :\",round(crime_moyen_arrondissement.mean()))"
   ]
  },
  {
   "cell_type": "markdown",
   "metadata": {},
   "source": [
    "\n",
    "### Statistique no.5 --Moyenne de crime 5 dernières années par arrondissement -- ###"
   ]
  },
  {
   "cell_type": "code",
   "execution_count": 20,
   "metadata": {},
   "outputs": [
    {
     "name": "stdout",
     "output_type": "stream",
     "text": [
      "Moyenne annuelle de crime par arrondissement (5 dernières années)\n",
      "Arrondissement\n",
      "Aeroport_international_Pierre-Elliott-Trudeau_de_Montreal                         11.6\n",
      "Ahuntsic                                                                        1174.8\n",
      "Anjou                                                                            673.2\n",
      "Arrondissement_de_Mercier-Hochelaga-Maisonneuve                                 1467.6\n",
      "Arrondissement_de_Montreal-Nord                                                 1421.0\n",
      "Baie-DUrfe_Beaconsfield_Kirkland_Sainte-Anne-de-Bellevue_Senneville              371.6\n",
      "Bordeaux_Cartierville                                                            606.8\n",
      "Centre-Sud                                                                       921.0\n",
      "Centre-ville_Ville-Marie_Est_ile_Notre-Dame_ile_Sainte-Helene_Vieux-Montreal    1925.8\n",
      "Centre-ville_Ville-Marie_Ouest_parc_du_Mont-Royal                               1826.8\n",
      "Cote-des-Neiges_Mont-Royal_Outremont                                            1184.6\n",
      "Cote_Saint-Luc_Hampstead_Montreal-Ouest                                          313.8\n",
      "Dollard-Des_Ormeaux                                                              408.8\n",
      "Dorval_Lile-Dorval_Pointe-Claire                                                 889.8\n",
      "Hochelaga-Maisonneuve                                                           1295.4\n",
      "LaSalle                                                                          753.2\n",
      "La_Petite-Italie_La_Petite-Patrie_Outremont_3_rues                              1096.6\n",
      "Lachine_Saint-Pierre                                                             680.6\n",
      "Le_Plateau-Mont-Royal                                                           2271.8\n",
      "Lile-Bizard_Pierrefonds_Sainte-Genevieve_Roxboro                                 544.0\n",
      "Metro_de_Montreal                                                                356.4\n",
      "Notre-Dame-de-Grace                                                              778.0\n",
      "Outremont                                                                        506.4\n",
      "Parc-Extension                                                                   435.2\n",
      "Riviere-des-Prairies                                                             695.6\n",
      "Rosemont_-_La_Petite-Patrie                                                     1263.4\n",
      "Saint-Laurent                                                                   1423.6\n",
      "Saint-Leonard                                                                   1195.0\n",
      "Saint-Michel                                                                     892.6\n",
      "Saint-Paul_Petite-Bourgogne_Pointe-Saint-Charles_Saint-Henri_Ville-emard        1164.4\n",
      "Ville-Marie_Ouest_Westmount                                                      685.8\n",
      "Ville_de_Montreal-Est_Pointe-aux-Trembles                                        773.6\n",
      "Villeray                                                                         900.6\n",
      "ile-des-Soeurs_Verdun                                                            783.0\n",
      "Name: CATEGORIE, dtype: float64\n"
     ]
    }
   ],
   "source": [
    "\n",
    "nbpdq = table_merge.groupby([\"Arrondissement\"]).count()[\"CATEGORIE\"]\n",
    "nombre_annees = stats_crimes[\"ANNEE\"].nunique()\n",
    "moyenne_par_arrondissement = nbpdq/nombre_annees\n",
    "print(\"Moyenne annuelle de crime par arrondissement (5 dernières années)\")\n",
    "print(moyenne_par_arrondissement)"
   ]
  },
  {
   "cell_type": "code",
   "execution_count": null,
   "metadata": {},
   "outputs": [],
   "source": []
  },
  {
   "cell_type": "code",
   "execution_count": null,
   "metadata": {},
   "outputs": [],
   "source": []
  },
  {
   "cell_type": "code",
   "execution_count": null,
   "metadata": {},
   "outputs": [],
   "source": []
  },
  {
   "cell_type": "code",
   "execution_count": null,
   "metadata": {},
   "outputs": [],
   "source": []
  },
  {
   "cell_type": "code",
   "execution_count": null,
   "metadata": {},
   "outputs": [],
   "source": []
  },
  {
   "cell_type": "code",
   "execution_count": null,
   "metadata": {},
   "outputs": [],
   "source": []
  },
  {
   "cell_type": "code",
   "execution_count": null,
   "metadata": {},
   "outputs": [],
   "source": []
  },
  {
   "cell_type": "code",
   "execution_count": null,
   "metadata": {},
   "outputs": [],
   "source": []
  },
  {
   "cell_type": "code",
   "execution_count": null,
   "metadata": {},
   "outputs": [],
   "source": []
  },
  {
   "cell_type": "code",
   "execution_count": null,
   "metadata": {},
   "outputs": [],
   "source": []
  },
  {
   "cell_type": "code",
   "execution_count": null,
   "metadata": {},
   "outputs": [],
   "source": []
  },
  {
   "cell_type": "code",
   "execution_count": null,
   "metadata": {},
   "outputs": [],
   "source": []
  }
 ],
 "metadata": {
  "kernelspec": {
   "display_name": "Python 3",
   "language": "python",
   "name": "python3"
  },
  "language_info": {
   "codemirror_mode": {
    "name": "ipython",
    "version": 3
   },
   "file_extension": ".py",
   "mimetype": "text/x-python",
   "name": "python",
   "nbconvert_exporter": "python",
   "pygments_lexer": "ipython3",
   "version": "3.7.7"
  }
 },
 "nbformat": 4,
 "nbformat_minor": 4
}
